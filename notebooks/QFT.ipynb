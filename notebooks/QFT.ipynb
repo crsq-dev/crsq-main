{
 "cells": [
  {
   "cell_type": "code",
   "execution_count": 3,
   "metadata": {},
   "outputs": [
    {
     "name": "stdout",
     "output_type": "stream",
     "text": [
      "y\n",
      "0000 : z= 0.250000-0.000000j\n",
      "0001 : z= 0.095671-0.230970j\n",
      "0010 : z=-0.176777-0.176777j\n",
      "0011 : z=-0.230970+0.095671j\n",
      "0100 : z= 0.000000+0.250000j\n",
      "0101 : z= 0.230970+0.095671j\n",
      "0110 : z= 0.176777-0.176777j\n",
      "0111 : z=-0.095671-0.230970j\n",
      "1000 : z=-0.250000+0.000000j\n",
      "1001 : z=-0.095671+0.230970j\n",
      "1010 : z= 0.176777+0.176777j\n",
      "1011 : z= 0.230970-0.095671j\n",
      "1100 : z=-0.000000-0.250000j\n",
      "1101 : z=-0.230970-0.095671j\n",
      "1110 : z=-0.176777+0.176777j\n",
      "1111 : z= 0.095671+0.230970j\n",
      "k\n",
      "0011 : z= 1.000000-0.000000j\n"
     ]
    }
   ],
   "source": [
    "from qiskit.circuit.library import QFT\n",
    "from qiskit.circuit import QuantumCircuit, QuantumRegister\n",
    "from qiskit import transpile\n",
    "from qiskit_aer import Aer, AerSimulator\n",
    "from qiskit.quantum_info import Statevector\n",
    "\n",
    "import math\n",
    "import cmath\n",
    "\n",
    "import crsq.setdistribution as sdist\n",
    "import tests.test_tools as tt\n",
    "\n",
    "n=4\n",
    "N=2**n\n",
    "\n",
    "rn = QuantumRegister(n)\n",
    "qc: QuantumCircuit = QuantumCircuit(rn)\n",
    "\n",
    "m=3\n",
    "k=m*2*math.pi/N\n",
    "cn = [cmath.exp(-1j*k*i) for i in range(N)]\n",
    "sdist.setdist(qc, rn, cn)\n",
    "qc.save_statevector(label='y')\n",
    "qc.append(QFT(n), [*rn])\n",
    "qc.save_statevector(label='k')\n",
    "\n",
    "backend = AerSimulator()\n",
    "trqc = transpile(qc, backend)\n",
    "result = backend.run(trqc, shots=1).result()\n",
    "svy= result.data()['y']\n",
    "svk= result.data()['k']\n",
    "\n",
    "print(\"y\")\n",
    "tt.dump_statevector_raw(svy)\n",
    "print(\"k\")\n",
    "tt.dump_statevector_raw(svk)\n"
   ]
  }
 ],
 "metadata": {
  "kernelspec": {
   "display_name": "quantum",
   "language": "python",
   "name": "python3"
  },
  "language_info": {
   "codemirror_mode": {
    "name": "ipython",
    "version": 3
   },
   "file_extension": ".py",
   "mimetype": "text/x-python",
   "name": "python",
   "nbconvert_exporter": "python",
   "pygments_lexer": "ipython3",
   "version": "3.10.12"
  },
  "orig_nbformat": 4
 },
 "nbformat": 4,
 "nbformat_minor": 2
}
